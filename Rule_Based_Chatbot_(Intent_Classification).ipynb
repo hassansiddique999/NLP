{
  "nbformat": 4,
  "nbformat_minor": 0,
  "metadata": {
    "colab": {
      "provenance": []
    },
    "kernelspec": {
      "name": "python3",
      "display_name": "Python 3"
    },
    "language_info": {
      "name": "python"
    }
  },
  "cells": [
    {
      "cell_type": "code",
      "execution_count": 3,
      "metadata": {
        "colab": {
          "base_uri": "https://localhost:8080/"
        },
        "id": "r3xMsdnm08eZ",
        "outputId": "f1745eed-1ca8-4d68-a8c1-d4c8b144ac58"
      },
      "outputs": [
        {
          "name": "stdout",
          "output_type": "stream",
          "text": [
            "Chatbot: Hello! How can I help?\n",
            "You: how are you\n",
            "Bot: Happy to help!\n",
            "You: i m good\n",
            "Bot: Hi there! What can I do for you?\n",
            "You: lets play a game\n",
            "Bot: Hello! How can I help you?\n",
            "You: helelo\n",
            "Bot: Hey! Let me know if you need anything.\n",
            "You: lets play football\n",
            "Bot: Hi there! What can I do for you?\n",
            "You: anything\n",
            "Bot: Hello! How can I help you?\n",
            "You: greetings\n",
            "Bot: Hello! How can I help you?\n",
            "You: i need to do somethogn\n",
            "Bot: Hello! How can I help you?\n",
            "You: good morning\n",
            "Bot: Hey! Let me know if you need anything.\n",
            "You: bye\n",
            "Bot: See you later!\n",
            "You: takecare\n",
            "Bot: Hello! How can I help you?\n",
            "You: thankyou\n",
            "Bot: Hello! How can I help you?\n",
            "You: Thank you\n",
            "Bot: Happy to help!\n",
            "You: quit\n"
          ]
        }
      ],
      "source": [
        "import json\n",
        "import numpy as np\n",
        "from sklearn.feature_extraction.text import TfidfVectorizer\n",
        "from sklearn.linear_model import SGDClassifier\n",
        "\n",
        "# Load intents from JSON\n",
        "with open('/content/sample_data/intents.json') as f:\n",
        "    intents = json.load(f)\n",
        "\n",
        "# Preprocess data\n",
        "tags, patterns, responses = [], [], []\n",
        "for intent in intents['intents']:\n",
        "    for pattern in intent['patterns']:\n",
        "        tags.append(intent['tag'])\n",
        "        patterns.append(pattern.lower())\n",
        "    responses.append((intent['tag'], intent['responses']))\n",
        "\n",
        "# Vectorize text\n",
        "vectorizer = TfidfVectorizer()\n",
        "X = vectorizer.fit_transform(patterns)\n",
        "y = np.array(tags)\n",
        "\n",
        "# Train classifier\n",
        "clf = SGDClassifier()\n",
        "clf.fit(X, y)\n",
        "\n",
        "# Chat loop\n",
        "print(\"Chatbot: Hello! How can I help?\")\n",
        "while True:\n",
        "    user_input = input(\"You: \").lower()\n",
        "    if user_input == 'quit':\n",
        "        break\n",
        "    vec = vectorizer.transform([user_input])\n",
        "    tag = clf.predict(vec)[0]\n",
        "    for intent in intents['intents']:\n",
        "        if intent['tag'] == tag:\n",
        "            print(\"Bot:\", np.random.choice(intent['responses']))"
      ]
    }
  ]
}